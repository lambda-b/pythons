{
  "nbformat": 4,
  "nbformat_minor": 0,
  "metadata": {
    "colab": {
      "name": "brandnew.ipynb",
      "provenance": [],
      "authorship_tag": "ABX9TyNGG45lXD4CrMAKB1UBidzv",
      "include_colab_link": true
    },
    "kernelspec": {
      "name": "python3",
      "display_name": "Python 3"
    },
    "language_info": {
      "name": "python"
    }
  },
  "cells": [
    {
      "cell_type": "markdown",
      "metadata": {
        "id": "view-in-github",
        "colab_type": "text"
      },
      "source": [
        "<a href=\"https://colab.research.google.com/github/lambda-b/pythons/blob/master/brandnew.ipynb\" target=\"_parent\"><img src=\"https://colab.research.google.com/assets/colab-badge.svg\" alt=\"Open In Colab\"/></a>"
      ]
    },
    {
      "cell_type": "code",
      "execution_count": null,
      "metadata": {
        "id": "ewD9SZBPHz-6"
      },
      "outputs": [],
      "source": [
        "import numpy as np\n",
        "import pandas as pd"
      ]
    },
    {
      "cell_type": "code",
      "source": [
        "brandnew = pd.DataFrame(columns=['新人ID', 'HRID', '新人名'])\n",
        "for i in  range(100):\n",
        "  data = [str(220001 + i), str(100800 + i), \"新人\" + str(i + 1) + \"郎\"]\n",
        "  brandnew.loc[i] = data"
      ],
      "metadata": {
        "id": "mh3moYsgIEHx"
      },
      "execution_count": null,
      "outputs": []
    },
    {
      "cell_type": "code",
      "source": [
        "brandnew.to_csv('hello.csv')"
      ],
      "metadata": {
        "id": "ijgbEQInIgdf"
      },
      "execution_count": null,
      "outputs": []
    }
  ]
}